{
 "cells": [
  {
   "cell_type": "code",
   "execution_count": 2,
   "metadata": {},
   "outputs": [
    {
     "name": "stdout",
     "output_type": "stream",
     "text": [
      "Epoch 1/2\n",
      "55/55 [==============================] - 27s 497ms/step - loss: 2.3880e-07 - accuracy: 0.2034 - val_loss: 2.3534e-07 - val_accuracy: 0.2069\n",
      "Epoch 2/2\n",
      "55/55 [==============================] - 27s 499ms/step - loss: 2.3880e-07 - accuracy: 0.2034 - val_loss: 2.3534e-07 - val_accuracy: 0.2069\n"
     ]
    },
    {
     "data": {
      "text/plain": [
       "<tensorflow.python.keras.callbacks.History at 0x7fe2b4252c10>"
      ]
     },
     "execution_count": 2,
     "metadata": {},
     "output_type": "execute_result"
    }
   ],
   "source": [
    "import tensorflow as tf\n",
    "from tensorflow.keras.models import Sequential\n",
    "from tensorflow.keras.layers import Dense, Dropout, Activation, Flatten, Conv2D, MaxPooling2D\n",
    "import pickle\n",
    "\n",
    "#Get data from pickle file\n",
    "XTrain = pickle.load(open(\"XTrain.pickle\", \"rb\"))\n",
    "YTrain = pickle.load(open(\"YTrain.pickle\", \"rb\"))\n",
    "XTest = pickle.load(open(\"XTest.pickle\", \"rb\"))\n",
    "YTest = pickle.load(open(\"YTest.pickle\", \"rb\"))\n",
    "\n",
    "#normalize data\n",
    "tf.keras.utils.normalize(XTrain)\n",
    "\n",
    "#Create CNN\n",
    "model = Sequential()\n",
    "\n",
    "model.add(Conv2D(64, (3,3), input_shape=XTrain.shape[1:]))\n",
    "model.add(Activation(\"relu\"))\n",
    "model.add(MaxPooling2D(pool_size=(2,2)))\n",
    "\n",
    "model.add(Conv2D(64, (3,3)))\n",
    "model.add(Activation(\"relu\"))\n",
    "model.add(MaxPooling2D(pool_size=(2,2)))\n",
    "\n",
    "#flatten data\n",
    "model.add(Flatten())\n",
    "model.add(Dense(64))\n",
    "\n",
    "#output layer\n",
    "model.add(Dense(1))\n",
    "model.add(Activation(\"sigmoid\"))\n",
    "\n",
    "model.compile(\n",
    "    loss=\"categorical_crossentropy\", \n",
    "    optimizer=\"adam\",\n",
    "    metrics=[\"accuracy\"]\n",
    ")\n",
    "model.fit(XTrain, YTrain, batch_size=64, epochs=2, validation_data=(XTest, YTest))"
   ]
  },
  {
   "cell_type": "code",
   "execution_count": null,
   "metadata": {},
   "outputs": [],
   "source": []
  }
 ],
 "metadata": {
  "kernelspec": {
   "display_name": "Python 3",
   "language": "python",
   "name": "python3"
  },
  "language_info": {
   "codemirror_mode": {
    "name": "ipython",
    "version": 3
   },
   "file_extension": ".py",
   "mimetype": "text/x-python",
   "name": "python",
   "nbconvert_exporter": "python",
   "pygments_lexer": "ipython3",
   "version": "3.9.0"
  }
 },
 "nbformat": 4,
 "nbformat_minor": 4
}
