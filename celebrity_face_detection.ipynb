{
 "cells": [
  {
   "cell_type": "code",
   "execution_count": null,
   "metadata": {},
   "outputs": [
    {
     "name": "stdout",
     "output_type": "stream",
     "text": [
      "Epoch 1/10\n",
      "55/55 [==============================] - 31s 556ms/step - loss: 1.6274 - accuracy: 0.2608 - val_loss: 1.4878 - val_accuracy: 0.3678\n",
      "Epoch 2/10\n",
      "55/55 [==============================] - 28s 515ms/step - loss: 1.4602 - accuracy: 0.3936 - val_loss: 1.3657 - val_accuracy: 0.4684\n",
      "Epoch 3/10\n",
      "55/55 [==============================] - 27s 494ms/step - loss: 1.2850 - accuracy: 0.4976 - val_loss: 1.2762 - val_accuracy: 0.5057\n",
      "Epoch 4/10\n",
      "55/55 [==============================] - 28s 513ms/step - loss: 1.0881 - accuracy: 0.5843 - val_loss: 1.3751 - val_accuracy: 0.4684\n",
      "Epoch 5/10\n",
      "42/55 [=====================>........] - ETA: 6s - loss: 0.8851 - accuracy: 0.6715"
     ]
    }
   ],
   "source": [
    "import tensorflow as tf\n",
    "from tensorflow.keras.models import Sequential\n",
    "from tensorflow.keras.layers import Dense, Dropout, Activation, Flatten, Conv2D, MaxPooling2D\n",
    "import pickle\n",
    "\n",
    "#Get data from pickle file\n",
    "XTrain = pickle.load(open(\"XTrain.pickle\", \"rb\"))\n",
    "YTrain = pickle.load(open(\"YTrain.pickle\", \"rb\"))\n",
    "XTest = pickle.load(open(\"XTest.pickle\", \"rb\"))\n",
    "YTest = pickle.load(open(\"YTest.pickle\", \"rb\"))\n",
    "\n",
    "#normalize data\n",
    "XTrain = XTrain / 255\n",
    "XTest = XTest / 255\n",
    "\n",
    "#Create CNN\n",
    "model = Sequential()\n",
    "\n",
    "model.add(Conv2D(32, (3,3), activation='relu', input_shape=XTrain.shape[1:]))\n",
    "model.add(MaxPooling2D(2,2))\n",
    "model.add(Conv2D(64, (3,3), activation='relu'))\n",
    "model.add(MaxPooling2D(2,2))\n",
    "model.add(Conv2D(64, (3,3), activation='relu'))\n",
    "\n",
    "\n",
    "#flatten data\n",
    "model.add(Flatten())\n",
    "model.add(Dense(64, activation='relu'))\n",
    "model.add(Dense(10))\n",
    "\n",
    "model.compile(\n",
    "    loss=tf.keras.losses.SparseCategoricalCrossentropy(from_logits=True), \n",
    "    optimizer=\"adam\",\n",
    "    metrics=[\"accuracy\"]\n",
    ")\n",
    "model.fit(XTrain, YTrain, batch_size=64, epochs=10, validation_data=(XTest, YTest))\n",
    "#model.fit(XTrain, YTrain, batch_size=64, epochs=2, validation_split=0.1)"
   ]
  },
  {
   "cell_type": "code",
   "execution_count": null,
   "metadata": {},
   "outputs": [],
   "source": []
  }
 ],
 "metadata": {
  "kernelspec": {
   "display_name": "Python 3",
   "language": "python",
   "name": "python3"
  },
  "language_info": {
   "codemirror_mode": {
    "name": "ipython",
    "version": 3
   },
   "file_extension": ".py",
   "mimetype": "text/x-python",
   "name": "python",
   "nbconvert_exporter": "python",
   "pygments_lexer": "ipython3",
   "version": "3.9.0"
  }
 },
 "nbformat": 4,
 "nbformat_minor": 4
}
