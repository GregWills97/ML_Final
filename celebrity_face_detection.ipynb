{
 "cells": [
  {
   "cell_type": "code",
   "execution_count": 14,
   "metadata": {},
   "outputs": [
    {
     "name": "stdout",
     "output_type": "stream",
     "text": [
      "Epoch 1/20\n",
      "55/55 [==============================] - 40s 717ms/step - loss: 1.8711 - accuracy: 0.1977 - val_loss: 1.6205 - val_accuracy: 0.1954\n",
      "Epoch 2/20\n",
      "55/55 [==============================] - 45s 817ms/step - loss: 1.6177 - accuracy: 0.2161 - val_loss: 1.5770 - val_accuracy: 0.2586\n",
      "Epoch 3/20\n",
      "55/55 [==============================] - 36s 649ms/step - loss: 1.5841 - accuracy: 0.2633 - val_loss: 1.5145 - val_accuracy: 0.3707\n",
      "Epoch 4/20\n",
      "55/55 [==============================] - 46s 828ms/step - loss: 1.5413 - accuracy: 0.3173 - val_loss: 1.4438 - val_accuracy: 0.3994\n",
      "Epoch 5/20\n",
      "55/55 [==============================] - 35s 632ms/step - loss: 1.4940 - accuracy: 0.3576 - val_loss: 1.4266 - val_accuracy: 0.4282\n",
      "Epoch 6/20\n",
      "55/55 [==============================] - 41s 741ms/step - loss: 1.4203 - accuracy: 0.3966 - val_loss: 1.3442 - val_accuracy: 0.4684\n",
      "Epoch 7/20\n",
      "55/55 [==============================] - 40s 732ms/step - loss: 1.3201 - accuracy: 0.4698 - val_loss: 1.1980 - val_accuracy: 0.5402\n",
      "Epoch 8/20\n",
      "55/55 [==============================] - 37s 670ms/step - loss: 1.2555 - accuracy: 0.5062 - val_loss: 1.2327 - val_accuracy: 0.5115\n",
      "Epoch 9/20\n",
      "55/55 [==============================] - 39s 707ms/step - loss: 1.2467 - accuracy: 0.5067 - val_loss: 1.1080 - val_accuracy: 0.5690\n",
      "Epoch 10/20\n",
      "55/55 [==============================] - 36s 654ms/step - loss: 1.1070 - accuracy: 0.5777 - val_loss: 1.1317 - val_accuracy: 0.5374\n",
      "Epoch 11/20\n",
      "55/55 [==============================] - 43s 788ms/step - loss: 0.9863 - accuracy: 0.6232 - val_loss: 1.1405 - val_accuracy: 0.5489\n",
      "Epoch 12/20\n",
      "55/55 [==============================] - 38s 692ms/step - loss: 0.9030 - accuracy: 0.6726 - val_loss: 1.1288 - val_accuracy: 0.5718\n",
      "Epoch 13/20\n",
      "55/55 [==============================] - 42s 768ms/step - loss: 0.7793 - accuracy: 0.7184 - val_loss: 1.2992 - val_accuracy: 0.5144\n",
      "Epoch 14/20\n",
      "55/55 [==============================] - 37s 667ms/step - loss: 0.6526 - accuracy: 0.7581 - val_loss: 1.2220 - val_accuracy: 0.5632\n",
      "Epoch 15/20\n",
      "55/55 [==============================] - 45s 813ms/step - loss: 0.5858 - accuracy: 0.7948 - val_loss: 1.3198 - val_accuracy: 0.5718\n",
      "Epoch 16/20\n",
      "55/55 [==============================] - 37s 669ms/step - loss: 0.3470 - accuracy: 0.8824 - val_loss: 1.3531 - val_accuracy: 0.5776\n",
      "Epoch 17/20\n",
      "55/55 [==============================] - 35s 637ms/step - loss: 0.2318 - accuracy: 0.9310 - val_loss: 1.9477 - val_accuracy: 0.5747\n",
      "Epoch 18/20\n",
      "55/55 [==============================] - 45s 821ms/step - loss: 0.1909 - accuracy: 0.9392 - val_loss: 1.8780 - val_accuracy: 0.6293\n",
      "Epoch 19/20\n",
      "55/55 [==============================] - 37s 677ms/step - loss: 0.1285 - accuracy: 0.9573 - val_loss: 2.2873 - val_accuracy: 0.5517\n",
      "Epoch 20/20\n",
      "55/55 [==============================] - 37s 677ms/step - loss: 0.1195 - accuracy: 0.9609 - val_loss: 2.2163 - val_accuracy: 0.5891\n"
     ]
    },
    {
     "data": {
      "text/plain": [
       "<tensorflow.python.keras.callbacks.History at 0x7f6805d6aca0>"
      ]
     },
     "execution_count": 14,
     "metadata": {},
     "output_type": "execute_result"
    }
   ],
   "source": [
    "import tensorflow as tf\n",
    "from tensorflow.keras.models import Sequential\n",
    "from tensorflow.keras.layers import Dense, Dropout, Activation, Flatten, Conv2D, MaxPooling2D\n",
    "import pickle\n",
    "\n",
    "#Get data from pickle file\n",
    "XTrain = pickle.load(open(\"XTrain.pickle\", \"rb\"))\n",
    "YTrain = pickle.load(open(\"YTrain.pickle\", \"rb\"))\n",
    "XTest = pickle.load(open(\"XTest.pickle\", \"rb\"))\n",
    "YTest = pickle.load(open(\"YTest.pickle\", \"rb\"))\n",
    "\n",
    "#normalize data\n",
    "XTrain = XTrain / 255\n",
    "XTest = XTest / 255\n",
    "\n",
    "#Create CNN\n",
    "model = Sequential()\n",
    "\n",
    "model.add(Conv2D(32, (3,3), activation='relu', input_shape=XTrain.shape[1:]))\n",
    "model.add(MaxPooling2D(2,2))\n",
    "\n",
    "model.add(Conv2D(64, (3,3), activation='relu'))\n",
    "model.add(Conv2D(64, (3,3), activation='relu'))\n",
    "model.add(MaxPooling2D(2,2))\n",
    "model.add(Conv2D(128, (3,3), activation='relu'))\n",
    "model.add(Conv2D(128, (3,3), activation='relu'))\n",
    "model.add(MaxPooling2D(2,2))\n",
    "model.add(Conv2D(256, (3,3), activation='relu'))\n",
    "\n",
    "model.add(Flatten())\n",
    "model.add(Dense(64, activation='relu'))\n",
    "model.add(Dense(10))\n",
    "\n",
    "model.compile(\n",
    "    loss=tf.keras.losses.SparseCategoricalCrossentropy(from_logits=True), \n",
    "    optimizer=\"adam\",\n",
    "    metrics=[\"accuracy\"]\n",
    ")\n",
    "model.fit(XTrain, YTrain, batch_size=64, epochs=20, validation_data=(XTest, YTest))"
   ]
  },
  {
   "cell_type": "code",
   "execution_count": null,
   "metadata": {},
   "outputs": [],
   "source": []
  }
 ],
 "metadata": {
  "kernelspec": {
   "display_name": "Python 3",
   "language": "python",
   "name": "python3"
  },
  "language_info": {
   "codemirror_mode": {
    "name": "ipython",
    "version": 3
   },
   "file_extension": ".py",
   "mimetype": "text/x-python",
   "name": "python",
   "nbconvert_exporter": "python",
   "pygments_lexer": "ipython3",
   "version": "3.9.1"
  }
 },
 "nbformat": 4,
 "nbformat_minor": 4
}
