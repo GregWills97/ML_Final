{
 "cells": [
  {
   "cell_type": "code",
   "execution_count": 124,
   "metadata": {},
   "outputs": [
    {
     "name": "stdout",
     "output_type": "stream",
     "text": [
      "(3481, 10000)\n",
      "(3481,)\n",
      "(348, 10000)\n",
      "(348,)\n"
     ]
    }
   ],
   "source": [
    "import tensorflow as tf\n",
    "import pickle\n",
    "import numpy as np\n",
    "from numpy.linalg import inv\n",
    "\n",
    "#Get data from pickle file\n",
    "train_data = np.array(pickle.load(open(\"XTrain.pickle\", \"rb\")))\n",
    "train_label = np.array(pickle.load(open(\"YTrain.pickle\", \"rb\")))\n",
    "test_data = np.array(pickle.load(open(\"XTest.pickle\", \"rb\")))\n",
    "test_label = np.array(pickle.load(open(\"YTest.pickle\", \"rb\")))\n",
    "final_train_data = np.empty([len(train_data), len(train_data[0].flatten())])\n",
    "final_test_data = np.empty([len(test_data), len(test_data[0].flatten())])\n",
    "for i in range(len(train_data)):\n",
    "    final_train_data[i] = train_data[i].flatten()\n",
    "for i in range(len(test_data)):\n",
    "    final_test_data[i] = test_data[i].flatten()\n",
    "#normalize data\n",
    "train_data = train_data / 255\n",
    "test_data = test_data / 255\n",
    "\n",
    "nfold = 5\n",
    "classNum = 5\n",
    "lamb = 1.3\n",
    "nfoldacc = np.zeros(nfold)\n",
    "print(final_train_data.shape)\n",
    "print(train_label.shape)\n",
    "print(final_test_data.shape)\n",
    "print(test_label.shape)"
   ]
  },
  {
   "cell_type": "code",
   "execution_count": 129,
   "metadata": {},
   "outputs": [],
   "source": [
    "def CRC(imTrain, imVal, labTrain, labVal, lam):\n",
    "    n = len(labTrain)\n",
    "    testNum = len(imVal)\n",
    "    ptrain = []\n",
    "    print(imTrain.shape)\n",
    "    print(np.transpose(imTrain).shape)\n",
    "    X = np.transpose(imTrain) @ imTrain\n",
    "    print(X.shape)\n",
    "    numerator = inv(((X) + (lam * np.identity(n))))\n",
    "    ptrain = numerator @ np.transpose(imTrain)\n",
    "    print(ptrain.shape)\n",
    "    ivect = np.zeros(testNum)\n",
    "\n",
    "    for i in range(testNum):\n",
    "        y = imTrain[:,i]\n",
    "        rho_hat = np.dot(ptrain, y)\n",
    "        r = np.zeros(classNum)\n",
    "\n",
    "        \n",
    "        for j in range(classNum):\n",
    "            rho_hat_k = rho_hat[labTrain == j]\n",
    "            #(707,)\n",
    "            #(681,)\n",
    "            #(696,)\n",
    "            #(688,)\n",
    "            #(709,)\n",
    "            xk = imTrain[:, labTrain == j]\n",
    "            r[j] = min(y - (xk @ rho_hat_k ))\n",
    "            #print(r)\n",
    "        val, min_idx = min((val, idx) for (idx, val) in enumerate(r))\n",
    "        ivect[i] = min_idx\n",
    "        \n",
    "\n",
    "    print(ivect)\n",
    "    print(labVal)\n",
    "    acc = sum(ivect == labVal)\n",
    "    acc = acc / testNum\n",
    "\n",
    "    return acc"
   ]
  },
  {
   "cell_type": "code",
   "execution_count": 130,
   "metadata": {},
   "outputs": [
    {
     "name": "stdout",
     "output_type": "stream",
     "text": [
      "(10000, 3481)\n",
      "(3481, 10000)\n",
      "(3481, 3481)\n",
      "(3481, 10000)\n",
      "[2. 1. 4. 0. 2. 1. 2. 3. 0. 3. 2. 1. 4. 3. 4. 0. 0. 4. 4. 1. 0. 0. 0. 2.\n",
      " 1. 4. 1. 0. 0. 2. 2. 1. 2. 2. 2. 0. 0. 4. 1. 3. 1. 0. 1. 0. 2. 1. 1. 0.\n",
      " 4. 3. 3. 2. 4. 3. 4. 4. 2. 1. 4. 2. 0. 3. 1. 1. 3. 2. 3. 3. 3. 4. 4. 4.\n",
      " 0. 2. 4. 3. 2. 4. 4. 3. 3. 2. 1. 0. 0. 4. 0. 0. 0. 4. 3. 0. 2. 0. 3. 4.\n",
      " 2. 1. 1. 4. 2. 2. 0. 3. 4. 1. 4. 3. 0. 1. 0. 3. 1. 4. 4. 1. 0. 4. 2. 1.\n",
      " 4. 0. 3. 0. 0. 3. 4. 0. 0. 4. 2. 4. 4. 3. 1. 4. 4. 2. 2. 3. 2. 4. 2. 3.\n",
      " 1. 0. 2. 1. 3. 4. 1. 1. 4. 3. 3. 4. 0. 1. 3. 0. 0. 4. 2. 0. 0. 2. 4. 1.\n",
      " 4. 2. 4. 0. 2. 0. 0. 2. 4. 3. 2. 2. 2. 2. 3. 0. 1. 2. 0. 0. 2. 4. 1. 3.\n",
      " 0. 4. 1. 4. 1. 3. 1. 4. 3. 0. 1. 0. 2. 4. 1. 1. 4. 0. 0. 3. 4. 3. 0. 4.\n",
      " 0. 2. 4. 3. 0. 2. 3. 3. 2. 3. 3. 1. 4. 3. 2. 4. 1. 1. 2. 4. 3. 4. 2. 2.\n",
      " 3. 1. 4. 0. 4. 0. 4. 1. 1. 4. 4. 4. 3. 2. 2. 3. 4. 1. 1. 2. 4. 2. 0. 2.\n",
      " 1. 3. 0. 1. 4. 2. 0. 3. 2. 1. 1. 3. 1. 2. 0. 0. 0. 3. 1. 2. 2. 3. 2. 0.\n",
      " 0. 0. 0. 0. 2. 4. 3. 2. 0. 0. 0. 3. 4. 2. 4. 0. 4. 2. 1. 3. 2. 0. 2. 3.\n",
      " 2. 3. 4. 2. 4. 2. 4. 4. 3. 1. 3. 4. 3. 4. 1. 1. 2. 1. 2. 3. 2. 3. 3. 2.\n",
      " 3. 1. 3. 0. 1. 4. 4. 2. 1. 4. 3. 0.]\n",
      "[3 2 0 3 0 2 2 0 3 0 2 4 4 2 0 1 3 3 4 4 0 4 2 1 0 2 2 3 4 3 0 0 4 2 2 1 1\n",
      " 3 4 1 4 3 2 2 3 0 2 0 1 2 0 0 0 0 1 4 3 1 2 1 1 0 3 1 0 2 0 1 4 4 3 4 0 2\n",
      " 2 3 0 2 4 3 0 2 2 4 2 2 4 2 3 1 0 4 2 2 1 3 0 3 4 1 2 1 3 2 2 4 3 3 0 3 3\n",
      " 3 4 1 2 1 0 0 4 4 4 3 2 0 0 3 3 0 1 2 3 1 3 0 4 2 2 1 1 4 1 3 2 4 1 1 1 0\n",
      " 4 2 0 2 1 1 3 4 4 0 0 2 3 1 0 2 4 1 0 2 0 1 0 2 0 4 4 4 4 2 0 0 3 0 2 4 2\n",
      " 1 4 1 4 4 0 2 2 0 1 1 3 3 2 2 1 0 0 2 4 1 4 3 1 0 2 2 3 2 1 4 4 0 3 2 1 3\n",
      " 1 3 2 1 2 4 4 1 3 3 1 0 1 4 4 0 2 1 4 1 3 3 0 3 4 4 1 1 1 3 3 0 0 4 3 0 4\n",
      " 2 4 2 3 0 1 3 4 4 4 4 4 0 0 2 1 3 2 3 4 0 2 0 3 3 2 3 1 2 0 2 2 1 1 4 3 0\n",
      " 3 3 1 0 0 2 0 4 1 3 1 4 1 4 1 3 1 0 0 3 1 1 0 1 1 3 2 4 3 3 2 0 3 4 1 3 4\n",
      " 4 3 0 4 0 0 3 4 1 0 3 1 1 3 0]\n",
      "0.22126436781609196\n"
     ]
    }
   ],
   "source": [
    "x = CRC(np.transpose(final_train_data), final_test_data, train_label, test_label, lamb)\n",
    "print(x)"
   ]
  },
  {
   "cell_type": "code",
   "execution_count": null,
   "metadata": {},
   "outputs": [],
   "source": []
  },
  {
   "cell_type": "code",
   "execution_count": null,
   "metadata": {},
   "outputs": [],
   "source": []
  }
 ],
 "metadata": {
  "kernelspec": {
   "display_name": "Python 3",
   "language": "python",
   "name": "python3"
  },
  "language_info": {
   "codemirror_mode": {
    "name": "ipython",
    "version": 3
   },
   "file_extension": ".py",
   "mimetype": "text/x-python",
   "name": "python",
   "nbconvert_exporter": "python",
   "pygments_lexer": "ipython3",
   "version": "3.8.3"
  }
 },
 "nbformat": 4,
 "nbformat_minor": 4
}
